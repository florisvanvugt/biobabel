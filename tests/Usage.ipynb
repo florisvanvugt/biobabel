{
 "cells": [
  {
   "cell_type": "markdown",
   "id": "ac76b027-6c9f-4c89-8724-91402450a2fc",
   "metadata": {},
   "source": [
    "# Biobabel example usage\n",
    "\n",
    "## Basic data input and inspection"
   ]
  },
  {
   "cell_type": "code",
   "execution_count": null,
   "id": "13b06d06",
   "metadata": {},
   "outputs": [],
   "source": [
    "import biobabel as bb"
   ]
  },
  {
   "cell_type": "code",
   "execution_count": null,
   "id": "728bdee9",
   "metadata": {},
   "outputs": [],
   "source": [
    "bio = bb.load('example.hdf5') # read example file included in the package (containing simulated data)"
   ]
  },
  {
   "cell_type": "code",
   "execution_count": null,
   "id": "500e49ff",
   "metadata": {},
   "outputs": [],
   "source": [
    "bio.print()  # display a human-readable overview of the dataset"
   ]
  },
  {
   "cell_type": "code",
   "execution_count": null,
   "id": "771f8e29",
   "metadata": {},
   "outputs": [],
   "source": [
    "bio.plot() # show a summary plot of all signals"
   ]
  },
  {
   "cell_type": "code",
   "execution_count": null,
   "id": "18b61149",
   "metadata": {},
   "outputs": [],
   "source": [
    "bio.get_participants() # the format can hold data for multiple participants at once, here two participants a and b"
   ]
  },
  {
   "cell_type": "code",
   "execution_count": null,
   "id": "b598ec99",
   "metadata": {},
   "outputs": [],
   "source": [
    "bio.find_channels() # returns the IDs of the channels in the dataset. \n",
    "# Each channel has an ID (shown below) and associated meta data, as well as the actual data stream itself (not shown)"
   ]
  },
  {
   "cell_type": "code",
   "execution_count": null,
   "id": "062a78d9",
   "metadata": {},
   "outputs": [],
   "source": [
    "bio.find_channels({\"participant\":\"a\"}) # find all channels for a particular participant only"
   ]
  },
  {
   "cell_type": "code",
   "execution_count": null,
   "id": "dd1b0f3f-ccfd-48ac-b649-e5a48bbcadfa",
   "metadata": {},
   "outputs": [],
   "source": [
    "bio.find_channels({\"modality\":\"ecg\"}) # find all channels with a particular modality"
   ]
  },
  {
   "cell_type": "code",
   "execution_count": null,
   "id": "fd6d8685",
   "metadata": {},
   "outputs": [],
   "source": [
    "hdr,dat = bio.get('a_ecg')\n",
    "hdr # find the associated metadata for this channel"
   ]
  },
  {
   "cell_type": "code",
   "execution_count": null,
   "id": "19dc981e",
   "metadata": {},
   "outputs": [],
   "source": [
    "hdr"
   ]
  },
  {
   "cell_type": "code",
   "execution_count": null,
   "id": "4ab0849e",
   "metadata": {},
   "outputs": [],
   "source": [
    "dat"
   ]
  },
  {
   "cell_type": "code",
   "execution_count": null,
   "id": "7c24ace2",
   "metadata": {},
   "outputs": [],
   "source": [
    "t = bio.get_time('a_ecg') # reproduce a time vector (handy for plotting)"
   ]
  },
  {
   "cell_type": "code",
   "execution_count": null,
   "id": "321587c6",
   "metadata": {},
   "outputs": [],
   "source": [
    "import matplotlib.pyplot as plt\n",
    "f,ax = plt.subplots(1,1,figsize=(5,3))\n",
    "plt.plot(t,dat)\n",
    "plt.xlabel('t (s)')"
   ]
  },
  {
   "cell_type": "markdown",
   "id": "16e2152c-01c0-4aab-9677-f051dc61de95",
   "metadata": {},
   "source": [
    "## Basic manipulations"
   ]
  },
  {
   "cell_type": "markdown",
   "id": "f1e5832e-0975-48b0-a633-d41550678cd8",
   "metadata": {},
   "source": [
    "### Copying"
   ]
  },
  {
   "cell_type": "code",
   "execution_count": null,
   "id": "7ba70759-878c-46c2-8efa-50a22b3f60b6",
   "metadata": {},
   "outputs": [],
   "source": [
    "# A deep copy of the data can be obtained via:\n",
    "dupl = bio.copy()\n",
    "# Deep copying means that anything you do to the new object (dupl) will not affect the original object (bio)"
   ]
  },
  {
   "cell_type": "markdown",
   "id": "f65494ce-9d14-4c00-b661-3b97880c50b2",
   "metadata": {},
   "source": [
    "### Selecting channels"
   ]
  },
  {
   "cell_type": "code",
   "execution_count": null,
   "id": "430a3e74-05f4-469e-9e77-c29c1581ef6c",
   "metadata": {},
   "outputs": [],
   "source": [
    "# Basic usage of select function:\n",
    "dupl.select('b_ecg')"
   ]
  },
  {
   "cell_type": "code",
   "execution_count": null,
   "id": "e392a3f6-4dfb-4c3d-8893-ceb437b2963c",
   "metadata": {},
   "outputs": [],
   "source": [
    "dupl.print()"
   ]
  },
  {
   "cell_type": "code",
   "execution_count": null,
   "id": "99f96044-382e-4557-be7c-5ef12b075fff",
   "metadata": {},
   "outputs": [],
   "source": [
    "# You can also select by any metadata, here to select only the ECG channels\n",
    "bio.copy().select({'modality':'ecg'}).print()"
   ]
  },
  {
   "cell_type": "markdown",
   "id": "b2eb2e9f-546a-4105-ab8b-6fb721ca478b",
   "metadata": {},
   "source": [
    "### Dropping channels"
   ]
  },
  {
   "cell_type": "code",
   "execution_count": null,
   "id": "c91168f7-42e8-4c0c-bfeb-759ab031270b",
   "metadata": {},
   "outputs": [],
   "source": [
    "dupl = bio.copy()\n",
    "dupl.drop('b_ecg')"
   ]
  },
  {
   "cell_type": "code",
   "execution_count": null,
   "id": "213e9e7c-5334-4907-9b26-c803c0d8a466",
   "metadata": {},
   "outputs": [],
   "source": [
    "dupl.print()"
   ]
  },
  {
   "cell_type": "markdown",
   "id": "30daf92a-8dab-47e1-8534-1a696aebc704",
   "metadata": {},
   "source": [
    "### Renaming data channels"
   ]
  },
  {
   "cell_type": "code",
   "execution_count": null,
   "id": "3ba90c0b-6e2f-4eb1-aade-acf1cc2ff699",
   "metadata": {},
   "outputs": [],
   "source": [
    "dupl.rename('a_ecg','ecg')\n",
    "dupl.rename('a_ppg','ppg')\n",
    "dupl.plot(figsize=(8,4))"
   ]
  },
  {
   "cell_type": "markdown",
   "id": "c5c6fe9d-32ee-454d-8f4b-cc2f2057e651",
   "metadata": {},
   "source": [
    "### Cropping"
   ]
  },
  {
   "cell_type": "code",
   "execution_count": null,
   "id": "7ee9bb80-631b-4222-bac1-91dbe1a82a3d",
   "metadata": {},
   "outputs": [],
   "source": [
    "dupl.crop(2.5,8) # crop the data to the time interval from 2.5 to 8 seconds."
   ]
  },
  {
   "cell_type": "code",
   "execution_count": null,
   "id": "580600bd-a308-4160-8a3c-4505e4d99d4c",
   "metadata": {},
   "outputs": [],
   "source": [
    "dupl.print()"
   ]
  },
  {
   "cell_type": "code",
   "execution_count": null,
   "id": "76312469-bdfb-4a0c-97fd-710a97188943",
   "metadata": {},
   "outputs": [],
   "source": [
    "dupl.plot(figsize=(8,4)) # note that the markers (dashed lines) have also been shifted, as they should be"
   ]
  },
  {
   "cell_type": "code",
   "execution_count": null,
   "id": "6216057d-fe6d-42bb-9c71-631f6d3a1034",
   "metadata": {},
   "outputs": [],
   "source": [
    "# Note that the original object is unchanged:\n",
    "bio.print()"
   ]
  },
  {
   "cell_type": "markdown",
   "id": "e20d53c3-7283-4e8a-a7f8-94ef0fa25ebc",
   "metadata": {},
   "source": [
    "## Dataset output"
   ]
  },
  {
   "cell_type": "code",
   "execution_count": null,
   "id": "e7c6e395",
   "metadata": {},
   "outputs": [],
   "source": [
    "dupl.save('dataset_copy.hdf5') # save to a new file"
   ]
  },
  {
   "cell_type": "markdown",
   "id": "8f430d02-c598-4e17-a4a4-be2939cc71e9",
   "metadata": {},
   "source": [
    "# Preprocessing using third-party software\n",
    "\n",
    "Some boilerplate code for automatic preprocessing using `neurokit2`. "
   ]
  },
  {
   "cell_type": "code",
   "execution_count": null,
   "id": "ba6e5f2e-13a3-40f8-aa16-4ce89fdeb558",
   "metadata": {},
   "outputs": [],
   "source": [
    "import neurokit2\n",
    "import biobabel as bb\n",
    "x = bb.load('dataset_copy.hdf5')\n",
    "prep = {}\n",
    "for hdr,signal in x.find({'modality':'ecg'}):\n",
    "    prep[hdr['id']] = neurokit2.ecg_process(signal,sampling_rate=hdr['sampling_frequency'])\n",
    "# That's all folks!"
   ]
  },
  {
   "cell_type": "code",
   "execution_count": null,
   "id": "28783945-2fe4-4dd9-a4df-a3de0e7d94de",
   "metadata": {},
   "outputs": [],
   "source": [
    "prep # see the results (for each column)"
   ]
  },
  {
   "cell_type": "code",
   "execution_count": null,
   "id": "711c12b3-ce82-4ee8-a2f4-e99d4dcd0b95",
   "metadata": {},
   "outputs": [],
   "source": [
    "# Visual representation of the automatically detected R peaks\n",
    "x.clear_markers()\n",
    "_,peaks = prep[hdr['id']]; x.add_marker('rpeak',peaks['ECG_R_Peaks']/1000)  # convert the peak times back to seconds from milliseconds\n",
    "x.plot('ecg',figsize=(8,4))"
   ]
  },
  {
   "cell_type": "code",
   "execution_count": null,
   "id": "ebd08189-c018-4932-b8e7-db44eb42fd86",
   "metadata": {},
   "outputs": [],
   "source": []
  }
 ],
 "metadata": {
  "kernelspec": {
   "display_name": "Python 3 (ipykernel)",
   "language": "python",
   "name": "python3"
  },
  "language_info": {
   "codemirror_mode": {
    "name": "ipython",
    "version": 3
   },
   "file_extension": ".py",
   "mimetype": "text/x-python",
   "name": "python",
   "nbconvert_exporter": "python",
   "pygments_lexer": "ipython3",
   "version": "3.10.12"
  }
 },
 "nbformat": 4,
 "nbformat_minor": 5
}
