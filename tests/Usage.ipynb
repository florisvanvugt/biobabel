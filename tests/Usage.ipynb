{
 "cells": [
  {
   "cell_type": "markdown",
   "id": "ac76b027-6c9f-4c89-8724-91402450a2fc",
   "metadata": {},
   "source": [
    "# Biobabel usage\n",
    "\n",
    "## Basic data input and inspection"
   ]
  },
  {
   "cell_type": "code",
   "execution_count": null,
   "id": "13b06d06",
   "metadata": {},
   "outputs": [],
   "source": [
    "import biobabel as bb"
   ]
  },
  {
   "cell_type": "code",
   "execution_count": null,
   "id": "728bdee9",
   "metadata": {},
   "outputs": [],
   "source": [
    "bio = bb.load('example.hdf5') # read example file included in the package (containing simulated data)"
   ]
  },
  {
   "cell_type": "code",
   "execution_count": null,
   "id": "500e49ff",
   "metadata": {},
   "outputs": [],
   "source": [
    "bio.print()  # display a human-readable overview of the dataset"
   ]
  },
  {
   "cell_type": "code",
   "execution_count": null,
   "id": "771f8e29",
   "metadata": {},
   "outputs": [],
   "source": [
    "bio.plot() # show a summary plot of all signals"
   ]
  },
  {
   "cell_type": "code",
   "execution_count": null,
   "id": "18b61149",
   "metadata": {},
   "outputs": [],
   "source": [
    "bio.get_participants() # the format can hold data for multiple participants at once, here two participants a and b"
   ]
  },
  {
   "cell_type": "code",
   "execution_count": null,
   "id": "b598ec99",
   "metadata": {},
   "outputs": [],
   "source": [
    "bio.find_channels() # returns the IDs of the channels in the dataset. \n",
    "# Each channel has an ID (shown below) and associated meta data, as well as the actual data stream itself (not shown)"
   ]
  },
  {
   "cell_type": "code",
   "execution_count": null,
   "id": "062a78d9",
   "metadata": {},
   "outputs": [],
   "source": [
    "bio.find_channels({\"participant\":\"b\"}) # find all channels for a particular participant only"
   ]
  },
  {
   "cell_type": "code",
   "execution_count": null,
   "id": "dd1b0f3f-ccfd-48ac-b649-e5a48bbcadfa",
   "metadata": {},
   "outputs": [],
   "source": [
    "bio.find_channels({\"modality\":\"ecg\"}) # find all channels with a particular modality"
   ]
  },
  {
   "cell_type": "code",
   "execution_count": null,
   "id": "fd6d8685",
   "metadata": {},
   "outputs": [],
   "source": [
    "hdr,dat = bio.get('a_a-ecg')\n",
    "hdr # find the associated metadata for this channel"
   ]
  },
  {
   "cell_type": "code",
   "execution_count": null,
   "id": "19dc981e",
   "metadata": {},
   "outputs": [],
   "source": [
    "hdr"
   ]
  },
  {
   "cell_type": "code",
   "execution_count": null,
   "id": "4ab0849e",
   "metadata": {},
   "outputs": [],
   "source": [
    "dat"
   ]
  },
  {
   "cell_type": "code",
   "execution_count": null,
   "id": "7c24ace2",
   "metadata": {},
   "outputs": [],
   "source": [
    "t = bio.get_time('a_a-ecg') # reproduce a time vector (handy for plotting)"
   ]
  },
  {
   "cell_type": "code",
   "execution_count": null,
   "id": "321587c6",
   "metadata": {},
   "outputs": [],
   "source": [
    "import matplotlib.pyplot as plt\n",
    "plt.plot(t,dat)\n",
    "plt.xlabel('t (s)')"
   ]
  },
  {
   "cell_type": "markdown",
   "id": "34e21185-3ebe-46c4-b9d9-0afb0c50cd54",
   "metadata": {},
   "source": [
    "## DEMO OF USAGE OF GENERIC CSV READER"
   ]
  },
  {
   "cell_type": "code",
   "execution_count": null,
   "id": "20990d53-014c-45de-8d19-644a29a82c68",
   "metadata": {},
   "outputs": [],
   "source": [
    "## TODO"
   ]
  },
  {
   "cell_type": "markdown",
   "id": "16e2152c-01c0-4aab-9677-f051dc61de95",
   "metadata": {},
   "source": [
    "## Basic manipulations"
   ]
  },
  {
   "cell_type": "markdown",
   "id": "f1e5832e-0975-48b0-a633-d41550678cd8",
   "metadata": {},
   "source": [
    "### Copying"
   ]
  },
  {
   "cell_type": "code",
   "execution_count": null,
   "id": "7ba70759-878c-46c2-8efa-50a22b3f60b6",
   "metadata": {},
   "outputs": [],
   "source": [
    "# A deep copy of the data can be obtained via:\n",
    "dupl = bio.copy()\n",
    "# Deep copying means that anything you do to the new object (dupl) will not affect the original object (bio)"
   ]
  },
  {
   "cell_type": "markdown",
   "id": "f65494ce-9d14-4c00-b661-3b97880c50b2",
   "metadata": {},
   "source": [
    "### Selecting channels"
   ]
  },
  {
   "cell_type": "code",
   "execution_count": null,
   "id": "430a3e74-05f4-469e-9e77-c29c1581ef6c",
   "metadata": {},
   "outputs": [],
   "source": [
    "# Basic usage of select function:\n",
    "dupl.select('b_b-ecg')"
   ]
  },
  {
   "cell_type": "code",
   "execution_count": null,
   "id": "e392a3f6-4dfb-4c3d-8893-ceb437b2963c",
   "metadata": {},
   "outputs": [],
   "source": [
    "dupl.print()"
   ]
  },
  {
   "cell_type": "code",
   "execution_count": null,
   "id": "99f96044-382e-4557-be7c-5ef12b075fff",
   "metadata": {},
   "outputs": [],
   "source": [
    "# You can also select by any metadata, here to select only the ECG channels\n",
    "bio.copy().select({'modality':'ecg'}).print()"
   ]
  },
  {
   "cell_type": "markdown",
   "id": "b2eb2e9f-546a-4105-ab8b-6fb721ca478b",
   "metadata": {},
   "source": [
    "### Dropping channels"
   ]
  },
  {
   "cell_type": "code",
   "execution_count": null,
   "id": "c91168f7-42e8-4c0c-bfeb-759ab031270b",
   "metadata": {},
   "outputs": [],
   "source": [
    "dupl = bio.copy()\n",
    "dupl.drop('b_b-ecg')"
   ]
  },
  {
   "cell_type": "code",
   "execution_count": null,
   "id": "213e9e7c-5334-4907-9b26-c803c0d8a466",
   "metadata": {},
   "outputs": [],
   "source": [
    "dupl.print()"
   ]
  },
  {
   "cell_type": "markdown",
   "id": "30daf92a-8dab-47e1-8534-1a696aebc704",
   "metadata": {},
   "source": [
    "### Renaming data channels"
   ]
  },
  {
   "cell_type": "code",
   "execution_count": null,
   "id": "3ba90c0b-6e2f-4eb1-aade-acf1cc2ff699",
   "metadata": {},
   "outputs": [],
   "source": [
    "dupl.rename('a_a-ecg','ecg')\n",
    "dupl.rename('a_a-ppg','ppg')\n",
    "dupl.plot(figsize=(8,4))"
   ]
  },
  {
   "cell_type": "markdown",
   "id": "c5c6fe9d-32ee-454d-8f4b-cc2f2057e651",
   "metadata": {},
   "source": [
    "### Cropping"
   ]
  },
  {
   "cell_type": "code",
   "execution_count": null,
   "id": "7ee9bb80-631b-4222-bac1-91dbe1a82a3d",
   "metadata": {},
   "outputs": [],
   "source": [
    "dupl.crop(2.5,8) # crop the data to the time interval from 2.5 to 8 seconds."
   ]
  },
  {
   "cell_type": "code",
   "execution_count": null,
   "id": "580600bd-a308-4160-8a3c-4505e4d99d4c",
   "metadata": {},
   "outputs": [],
   "source": [
    "dupl.print()"
   ]
  },
  {
   "cell_type": "code",
   "execution_count": null,
   "id": "76312469-bdfb-4a0c-97fd-710a97188943",
   "metadata": {},
   "outputs": [],
   "source": [
    "dupl.plot(figsize=(8,4))"
   ]
  },
  {
   "cell_type": "code",
   "execution_count": null,
   "id": "6216057d-fe6d-42bb-9c71-631f6d3a1034",
   "metadata": {},
   "outputs": [],
   "source": [
    "# Note that the original object is unchanged:\n",
    "bio.print()"
   ]
  },
  {
   "cell_type": "markdown",
   "id": "e20d53c3-7283-4e8a-a7f8-94ef0fa25ebc",
   "metadata": {},
   "source": [
    "## Dataset output"
   ]
  },
  {
   "cell_type": "code",
   "execution_count": null,
   "id": "e7c6e395",
   "metadata": {},
   "outputs": [],
   "source": [
    "dupl.save('dataset_copy.hdf5') # save to a new file"
   ]
  }
 ],
 "metadata": {
  "kernelspec": {
   "display_name": "Python 3 (ipykernel)",
   "language": "python",
   "name": "python3"
  },
  "language_info": {
   "codemirror_mode": {
    "name": "ipython",
    "version": 3
   },
   "file_extension": ".py",
   "mimetype": "text/x-python",
   "name": "python",
   "nbconvert_exporter": "python",
   "pygments_lexer": "ipython3",
   "version": "3.10.12"
  }
 },
 "nbformat": 4,
 "nbformat_minor": 5
}
