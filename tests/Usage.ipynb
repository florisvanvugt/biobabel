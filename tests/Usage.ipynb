{
 "cells": [
  {
   "cell_type": "code",
   "execution_count": null,
   "id": "13b06d06",
   "metadata": {},
   "outputs": [],
   "source": [
    "import biobabel as bb\n",
    "# To install,\n",
    "# python -m pip install 'biobabel @ git+https://github.com/florisvanvugt/biobabel'"
   ]
  },
  {
   "cell_type": "code",
   "execution_count": null,
   "id": "728bdee9",
   "metadata": {},
   "outputs": [],
   "source": [
    "bio = bb.load('example.hdf5')"
   ]
  },
  {
   "cell_type": "code",
   "execution_count": null,
   "id": "500e49ff",
   "metadata": {},
   "outputs": [],
   "source": [
    "bio.print()  # display a human-readable overview of the dataset"
   ]
  },
  {
   "cell_type": "code",
   "execution_count": null,
   "id": "771f8e29",
   "metadata": {},
   "outputs": [],
   "source": [
    "bio.plot() # show a summary plot of all signals"
   ]
  },
  {
   "cell_type": "code",
   "execution_count": null,
   "id": "18b61149",
   "metadata": {},
   "outputs": [],
   "source": [
    "bio.get_participants() # the format can hold data for multiple participants at once"
   ]
  },
  {
   "cell_type": "code",
   "execution_count": null,
   "id": "b598ec99",
   "metadata": {},
   "outputs": [],
   "source": [
    "bio.find_channels() # returns the labels of the channels in the dataset"
   ]
  },
  {
   "cell_type": "code",
   "execution_count": null,
   "id": "062a78d9",
   "metadata": {},
   "outputs": [],
   "source": [
    "bio.find_channels({\"participant\":\"b\"}) # find all channels for a particular participant"
   ]
  },
  {
   "cell_type": "code",
   "execution_count": null,
   "id": "fd6d8685",
   "metadata": {},
   "outputs": [],
   "source": [
    "hdr,dat = bio.get('a/a-ecg')\n",
    "hdr"
   ]
  },
  {
   "cell_type": "code",
   "execution_count": null,
   "id": "19dc981e",
   "metadata": {},
   "outputs": [],
   "source": [
    "hdr"
   ]
  },
  {
   "cell_type": "code",
   "execution_count": null,
   "id": "4ab0849e",
   "metadata": {},
   "outputs": [],
   "source": [
    "dat"
   ]
  },
  {
   "cell_type": "code",
   "execution_count": null,
   "id": "7c24ace2",
   "metadata": {},
   "outputs": [],
   "source": [
    "t = bio.get_time('a/a-ecg') # reproduce a time vector (handy for plotting)"
   ]
  },
  {
   "cell_type": "code",
   "execution_count": null,
   "id": "321587c6",
   "metadata": {},
   "outputs": [],
   "source": [
    "import matplotlib.pyplot as plt\n",
    "plt.plot(t,dat)\n",
    "plt.xlabel('t (s)')"
   ]
  },
  {
   "cell_type": "code",
   "execution_count": null,
   "id": "e7c6e395",
   "metadata": {},
   "outputs": [],
   "source": []
  }
 ],
 "metadata": {
  "kernelspec": {
   "display_name": "Python 3 (ipykernel)",
   "language": "python",
   "name": "python3"
  },
  "language_info": {
   "codemirror_mode": {
    "name": "ipython",
    "version": 3
   },
   "file_extension": ".py",
   "mimetype": "text/x-python",
   "name": "python",
   "nbconvert_exporter": "python",
   "pygments_lexer": "ipython3",
   "version": "3.10.6"
  }
 },
 "nbformat": 4,
 "nbformat_minor": 5
}
